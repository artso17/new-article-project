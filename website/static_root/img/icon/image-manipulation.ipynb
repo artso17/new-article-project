{
    "cells": [
        {
            "cell_type": "code",
            "execution_count": 8,
            "source": [
                "import os\r\n",
                "from PIL import Image\r\n",
                "image=os.listdir()[0].split('.')[0]\r\n",
                "print(image)\r\n",
                "img=Image.open(os.listdir()[0])\r\n",
                "img.thumbnail((200,200))\r\n",
                "img.save(f'{image}_200.png')\r\n"
            ],
            "outputs": [
                {
                    "output_type": "stream",
                    "name": "stdout",
                    "text": [
                        "artsodeva-logo\n"
                    ]
                }
            ],
            "metadata": {}
        }
    ],
    "metadata": {
        "orig_nbformat": 4,
        "language_info": {
            "name": "python",
            "version": "3.9.6",
            "mimetype": "text/x-python",
            "codemirror_mode": {
                "name": "ipython",
                "version": 3
            },
            "pygments_lexer": "ipython3",
            "nbconvert_exporter": "python",
            "file_extension": ".py"
        },
        "kernelspec": {
            "name": "python3",
            "display_name": "Python 3.9.6 64-bit"
        },
        "interpreter": {
            "hash": "5bbd4e8a0020626d1955d6e7d647b883363040a056d10513dec12a340be08610"
        }
    },
    "nbformat": 4,
    "nbformat_minor": 2
}